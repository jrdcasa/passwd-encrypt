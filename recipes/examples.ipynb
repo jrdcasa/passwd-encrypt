{
 "cells": [
  {
   "cell_type": "markdown",
   "id": "68edf3e8",
   "metadata": {},
   "source": [
    "# Tutorial to use passwd_encrypt script"
   ]
  },
  {
   "cell_type": "markdown",
   "id": "ba21dd7c",
   "metadata": {},
   "source": [
    "1. Change to the directory where the **passwd_encrypt.py** script resides"
   ]
  },
  {
   "cell_type": "code",
   "execution_count": 1,
   "id": "01df38d6",
   "metadata": {
    "scrolled": true
   },
   "outputs": [
    {
     "name": "stdout",
     "output_type": "stream",
     "text": [
      "C:\\PyProjects\\passwd_encrypt\\passwd_encrypt\n",
      " El volumen de la unidad C no tiene etiqueta.\n",
      " El n£mero de serie del volumen es: 487C-8136\n",
      "\n",
      " Directorio de C:\\PyProjects\\passwd_encrypt\\passwd_encrypt\n",
      "\n",
      "22/07/2021  12:30    <DIR>          .\n",
      "22/07/2021  12:30    <DIR>          ..\n",
      "21/07/2021  19:02                 0 __init__.py\n",
      "22/07/2021  12:30             3.242 my_key.pem\n",
      "22/07/2021  12:30               799 my_key.pem.pub\n",
      "22/07/2021  12:30             5.945 passwd_encrypt.py\n",
      "22/07/2021  12:30               512 passwd_encrypted.bin\n",
      "               5 archivos         10.498 bytes\n",
      "               2 dirs  45.290.274.816 bytes libres\n"
     ]
    }
   ],
   "source": [
    "%cd ../passwd_encrypt\n",
    "%ls"
   ]
  },
  {
   "cell_type": "markdown",
   "id": "03561727",
   "metadata": {},
   "source": [
    "2. Run script without arguments shows the help information:"
   ]
  },
  {
   "cell_type": "code",
   "execution_count": 2,
   "id": "8301d326",
   "metadata": {},
   "outputs": [
    {
     "name": "stdout",
     "output_type": "stream",
     "text": [
      "======== Crypto Password: Start Job ========\n",
      "\n",
      "#############################################\n",
      "#            PASSWD_ENCRYPT                 #\n",
      "#           Dr. Javier Ramos                #\n",
      "#    Macromolecular Physics Department      #\n",
      "#              IEM-CSIC                     #\n",
      "#       https://github.com/jrdcasa          #\n",
      "#############################################\n",
      " Usage:\n",
      " passwd_encrypt [--createkeys|-c] <pattern>  # Generate the private and public keys as <pattern>.pem and <pattern>.pem.pub, respectively in the working directory.\n",
      " passwd_encrypt [--encrypt|-e] <rsa public key file> <message to encrypt>   # Encrypt message with the public key.\n",
      " passwd_encrypt [--decrypt|-d] <rsa private key file> <string or file containing the message to decrypt>  # Decrypt message with the public key.\n",
      "\n",
      "======== Crypto Password: Job Done =========\n"
     ]
    }
   ],
   "source": [
    "%run passwd_encrypt.py \n"
   ]
  },
  {
   "cell_type": "markdown",
   "id": "20ffdb8a",
   "metadata": {},
   "source": [
    "3. Show version:"
   ]
  },
  {
   "cell_type": "code",
   "execution_count": 3,
   "id": "afc090f2",
   "metadata": {},
   "outputs": [
    {
     "name": "stdout",
     "output_type": "stream",
     "text": [
      "======== Crypto Password: Start Job ========\n",
      "passwd_encrypt.py version: 0.1 (20-Jul-2021)\n",
      "======== Crypto Password: Job Done =========\n"
     ]
    }
   ],
   "source": [
    "%run passwd_encrypt.py -v"
   ]
  },
  {
   "cell_type": "markdown",
   "id": "802471ce",
   "metadata": {},
   "source": [
    "4. Create the pair of keys"
   ]
  },
  {
   "cell_type": "code",
   "execution_count": 4,
   "id": "72399ce0",
   "metadata": {},
   "outputs": [
    {
     "name": "stdout",
     "output_type": "stream",
     "text": [
      "======== Crypto Password: Start Job ========\n",
      "Private file was created in my_key.pem\n",
      "Public  file was created in my_key.pem.pub\n",
      "======== Crypto Password: Job Done =========\n",
      " El volumen de la unidad C no tiene etiqueta.\n",
      " El n£mero de serie del volumen es: 487C-8136\n",
      "\n",
      " Directorio de C:\\PyProjects\\passwd_encrypt\\passwd_encrypt\n",
      "\n",
      "22/07/2021  12:30    <DIR>          .\n",
      "22/07/2021  12:30    <DIR>          ..\n",
      "21/07/2021  19:02                 0 __init__.py\n",
      "22/07/2021  12:31             3.246 my_key.pem\n",
      "22/07/2021  12:31               799 my_key.pem.pub\n",
      "22/07/2021  12:30             5.945 passwd_encrypt.py\n",
      "22/07/2021  12:30               512 passwd_encrypted.bin\n",
      "               5 archivos         10.502 bytes\n",
      "               2 dirs  45.290.160.128 bytes libres\n"
     ]
    }
   ],
   "source": [
    "%run passwd_encrypt.py -c my_key\n",
    "%ls "
   ]
  },
  {
   "cell_type": "markdown",
   "id": "6dabc26a",
   "metadata": {},
   "source": [
    "5. Encrypt message: "
   ]
  },
  {
   "cell_type": "code",
   "execution_count": 5,
   "id": "6de8c5c3",
   "metadata": {},
   "outputs": [
    {
     "name": "stdout",
     "output_type": "stream",
     "text": [
      "======== Crypto Password: Start Job ========\n",
      "Message encrypted in passwd_encrypted.bin\n",
      "======== Crypto Password: Job Done =========\n",
      " El volumen de la unidad C no tiene etiqueta.\n",
      " El n£mero de serie del volumen es: 487C-8136\n",
      "\n",
      " Directorio de C:\\PyProjects\\passwd_encrypt\\passwd_encrypt\n",
      "\n",
      "22/07/2021  12:30    <DIR>          .\n",
      "22/07/2021  12:30    <DIR>          ..\n",
      "21/07/2021  19:02                 0 __init__.py\n",
      "22/07/2021  12:31             3.246 my_key.pem\n",
      "22/07/2021  12:31               799 my_key.pem.pub\n",
      "22/07/2021  12:30             5.945 passwd_encrypt.py\n",
      "22/07/2021  12:31               512 passwd_encrypted.bin\n",
      "               5 archivos         10.502 bytes\n",
      "               2 dirs  45.290.143.744 bytes libres\n",
      "b'~q\\x10X\\x1b\\xd3\\xf0v\\xfc\\x04\\xa05w\\x01E\\xfd\\xea\\xfa\\xc7\\x80\\x05\\xfd0\\xdc}\\x18\\x0f0\\xdeW\\xf1\\xa6\\x9b\\xec\\x9b%\\xfaU\\x01\\xe2\\x12\\xa7&\\xcf\\x85\\xac\\x87\\xce_\\xec\\x1b\\x88\\xf4\\x94|}m\\xdc\\x17(\\x1at\\x9f\\x01\\x16~\\xdb0\\xec\\x97\\x1b\\x03\\xb2U]\\xf2\\xd7\\xdb\\xc4\\xf8\\x04w\\xdb\\x84J\\x081\\xfc\\nb\\x93u\\x98<L\\xf4n\\x99\\xc4=5\\x8d\\xef\\xa0rn!\\x87/s\\xbe\\xc4{\\n\\xe8\\x16\\x1b\\xa2\\xacb\\xb1\\x1a\\x8d8\\xbf\\xafs\\xebg\\x11\\x8e\\xd6\\xcd\\x02*\\x8fz\\xd5\\xab\\xdd<\\xf4F\\x04J\\xc1\\x03#\\xb7\\xe0}\\xa5\\xb2\\xe5p\\xe7\\xa1\\xdd\\xad\\xd8\\xda _\\x95\\x1e\\x05s\\x90\\x08\\xbb-\\xdai\\x16\\x0ej\\xccDS\\x9b\\x19u\\xdb\\xd6\\x10\\x95$\\xd9Y\\xc1Cu\\x00\\x06xT\\xf0\\x88\\x06\\xfe|\\xf6l*e\\x96db\\xc8\\x7fw\\x8bO\\xd60Y.\\x110a\\x15\\x05\\xfb\\xd5*\\x07\\x92K\\xe0\\xa2USiy\\x7f\\x1b\\xe1~\\x8c\\xe1!\\x1e\\xe1\\n\\x1bt\\x95\\xc9J\\xfdsD@\\xedg\\xf4\\x17)\\'\\xf1\\xd0\"z\\xb2\\xdfO|\\xfe\\xceU\\x0bwc+v\\x7fU&\\x0e\\xbe\\xdf54\\x88\\xd5\\xb3\\xd6\\xec\\x7f\\xf9\\xbfQ[\\xafL\\xa0\\x06\\x81(]mOu&q)\\xde\\xcb\\x1c\\xcb\\xf7\\x0f;1\\x1f\\xc9VS!\\x1a\\xe2F\\xefV4\\x94\\x90\\xd0\\x05\\xf5\\x10\\xfa\\x96o\\xbd\\xdb\\x13J@\\xadr\\xf3\\x8d/\"m\\xb2\\x87\\x99\\xf9n$>yWZ)\\x11\\x7fZ\\xb3\\xeb\\xb8\\x979\\xa7w\\x8dg\\x8a<M0\\x91M\\x91\\x88h\\xdb\\xd1Z\\xd1\\xa5\\xbf\\x8d\\x0e\\x0e\\xeffi\\x16\\xdb\\xf6h\\xe6[\\xd9\\xf3\\x8aI\\xda<\\x94|\\xa0\\x1a\\xab\\xdf\\xff\\x1c\\x9d\\x17\\xb8\\xcbht\\xc0\\x9f\\xb8=8\\xbdLc\\xcc\\xff\\x0e\\x08I\\xfd\\x15$\\x0c\\x10\\rzs\\xe74\\xb5r\\xfb\\xa8t`\\x8b\\xa1*\\x14\\x9c\\xdf\\xde\\x91\\x80\\xf2\\x9bp/~\\xbd\\x07V[\\x95s\\x7f\\xfc\\xeb\\x07\\xcd\\x1b\\xec\\x12\\x16Z\\xf5\\x1dKc\\xfd\\xcf\\xbe\\x9aD\\xdf\\xf3\\xdb\\x99\\x16n\\xe0\\xe1w\\x01\\xe2\\xd4^\\xd4\\xe9qS\\xcfrn\\xd1\\xdc\\x8e\\x10\\xfc\\xd43J'\n"
     ]
    }
   ],
   "source": [
    "%run passwd_encrypt.py -e my_key.pem.pub \"Message to encrypt\"\n",
    "%ls\n",
    "# See the encrypted message\n",
    "f = open(\"passwd_encrypted.bin\", 'rb')\n",
    "print(f.read())"
   ]
  },
  {
   "cell_type": "markdown",
   "id": "7d8f9384",
   "metadata": {},
   "source": [
    "6. Decypher the message:"
   ]
  },
  {
   "cell_type": "code",
   "execution_count": 6,
   "id": "6feb3853",
   "metadata": {},
   "outputs": [
    {
     "name": "stdout",
     "output_type": "stream",
     "text": [
      "======== Crypto Password: Start Job ========\n",
      "Message to encrypt\n",
      "======== Crypto Password: Job Done =========\n"
     ]
    }
   ],
   "source": [
    "%run passwd_encrypt.py -d my_key.pem passwd_encrypted.bin\n"
   ]
  },
  {
   "cell_type": "code",
   "execution_count": null,
   "id": "defd5628",
   "metadata": {},
   "outputs": [],
   "source": []
  }
 ],
 "metadata": {
  "kernelspec": {
   "display_name": "Python 3",
   "language": "python",
   "name": "python3"
  },
  "language_info": {
   "codemirror_mode": {
    "name": "ipython",
    "version": 3
   },
   "file_extension": ".py",
   "mimetype": "text/x-python",
   "name": "python",
   "nbconvert_exporter": "python",
   "pygments_lexer": "ipython3",
   "version": "3.7.10"
  }
 },
 "nbformat": 4,
 "nbformat_minor": 5
}
